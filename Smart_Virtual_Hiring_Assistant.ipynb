{
  "nbformat": 4,
  "nbformat_minor": 0,
  "metadata": {
    "colab": {
      "provenance": []
    },
    "kernelspec": {
      "name": "python3",
      "display_name": "Python 3"
    },
    "language_info": {
      "name": "python"
    }
  },
  "cells": [
    {
      "cell_type": "markdown",
      "source": [
        "## Smart Virtual Hiring Assistant\n",
        "# This code implements a conversational AI bot for HR teams to filter candidates\n",
        "# Features: Resume parsing, skill-matching, sentiment analysis, candidate summary\n",
        "# Tech: GPT-3.5 (mocked), LangChain, Flask (simulated), Python\n",
        "# Designed to run in Google Colab\n"
      ],
      "metadata": {
        "id": "kRryhrZcojk3"
      }
    },
    {
      "cell_type": "code",
      "source": [
        "# Install required packages\n",
        "!pip install langchain openai nltk pandas numpy scikit-learn\n",
        "\n",
        "import pandas as pd\n",
        "import numpy as np\n",
        "import nltk\n",
        "import re\n",
        "from sklearn.feature_extraction.text import TfidfVectorizer\n",
        "from sklearn.metrics.pairwise import cosine_similarity\n",
        "from nltk.sentiment.vader import SentimentIntensityAnalyzer\n",
        "import random\n",
        "from IPython.display import display, HTML\n",
        "\n",
        "# Download NLTK data\n",
        "nltk.download('vader_lexicon')\n",
        "nltk.download('punkt')"
      ],
      "metadata": {
        "colab": {
          "base_uri": "https://localhost:8080/",
          "height": 0
        },
        "id": "J9yQ_zZLonFq",
        "outputId": "42f5cb4c-89de-4b32-825a-d11526dfd890"
      },
      "execution_count": 1,
      "outputs": [
        {
          "output_type": "stream",
          "name": "stdout",
          "text": [
            "Requirement already satisfied: langchain in /usr/local/lib/python3.11/dist-packages (0.3.23)\n",
            "Requirement already satisfied: openai in /usr/local/lib/python3.11/dist-packages (1.70.0)\n",
            "Requirement already satisfied: nltk in /usr/local/lib/python3.11/dist-packages (3.9.1)\n",
            "Requirement already satisfied: pandas in /usr/local/lib/python3.11/dist-packages (2.2.2)\n",
            "Requirement already satisfied: numpy in /usr/local/lib/python3.11/dist-packages (2.0.2)\n",
            "Requirement already satisfied: scikit-learn in /usr/local/lib/python3.11/dist-packages (1.6.1)\n",
            "Requirement already satisfied: langchain-core<1.0.0,>=0.3.51 in /usr/local/lib/python3.11/dist-packages (from langchain) (0.3.51)\n",
            "Requirement already satisfied: langchain-text-splitters<1.0.0,>=0.3.8 in /usr/local/lib/python3.11/dist-packages (from langchain) (0.3.8)\n",
            "Requirement already satisfied: langsmith<0.4,>=0.1.17 in /usr/local/lib/python3.11/dist-packages (from langchain) (0.3.24)\n",
            "Requirement already satisfied: pydantic<3.0.0,>=2.7.4 in /usr/local/lib/python3.11/dist-packages (from langchain) (2.11.2)\n",
            "Requirement already satisfied: SQLAlchemy<3,>=1.4 in /usr/local/lib/python3.11/dist-packages (from langchain) (2.0.40)\n",
            "Requirement already satisfied: requests<3,>=2 in /usr/local/lib/python3.11/dist-packages (from langchain) (2.32.3)\n",
            "Requirement already satisfied: PyYAML>=5.3 in /usr/local/lib/python3.11/dist-packages (from langchain) (6.0.2)\n",
            "Requirement already satisfied: anyio<5,>=3.5.0 in /usr/local/lib/python3.11/dist-packages (from openai) (4.9.0)\n",
            "Requirement already satisfied: distro<2,>=1.7.0 in /usr/local/lib/python3.11/dist-packages (from openai) (1.9.0)\n",
            "Requirement already satisfied: httpx<1,>=0.23.0 in /usr/local/lib/python3.11/dist-packages (from openai) (0.28.1)\n",
            "Requirement already satisfied: jiter<1,>=0.4.0 in /usr/local/lib/python3.11/dist-packages (from openai) (0.9.0)\n",
            "Requirement already satisfied: sniffio in /usr/local/lib/python3.11/dist-packages (from openai) (1.3.1)\n",
            "Requirement already satisfied: tqdm>4 in /usr/local/lib/python3.11/dist-packages (from openai) (4.67.1)\n",
            "Requirement already satisfied: typing-extensions<5,>=4.11 in /usr/local/lib/python3.11/dist-packages (from openai) (4.13.1)\n",
            "Requirement already satisfied: click in /usr/local/lib/python3.11/dist-packages (from nltk) (8.1.8)\n",
            "Requirement already satisfied: joblib in /usr/local/lib/python3.11/dist-packages (from nltk) (1.4.2)\n",
            "Requirement already satisfied: regex>=2021.8.3 in /usr/local/lib/python3.11/dist-packages (from nltk) (2024.11.6)\n",
            "Requirement already satisfied: python-dateutil>=2.8.2 in /usr/local/lib/python3.11/dist-packages (from pandas) (2.8.2)\n",
            "Requirement already satisfied: pytz>=2020.1 in /usr/local/lib/python3.11/dist-packages (from pandas) (2025.2)\n",
            "Requirement already satisfied: tzdata>=2022.7 in /usr/local/lib/python3.11/dist-packages (from pandas) (2025.2)\n",
            "Requirement already satisfied: scipy>=1.6.0 in /usr/local/lib/python3.11/dist-packages (from scikit-learn) (1.14.1)\n",
            "Requirement already satisfied: threadpoolctl>=3.1.0 in /usr/local/lib/python3.11/dist-packages (from scikit-learn) (3.6.0)\n",
            "Requirement already satisfied: idna>=2.8 in /usr/local/lib/python3.11/dist-packages (from anyio<5,>=3.5.0->openai) (3.10)\n",
            "Requirement already satisfied: certifi in /usr/local/lib/python3.11/dist-packages (from httpx<1,>=0.23.0->openai) (2025.1.31)\n",
            "Requirement already satisfied: httpcore==1.* in /usr/local/lib/python3.11/dist-packages (from httpx<1,>=0.23.0->openai) (1.0.7)\n",
            "Requirement already satisfied: h11<0.15,>=0.13 in /usr/local/lib/python3.11/dist-packages (from httpcore==1.*->httpx<1,>=0.23.0->openai) (0.14.0)\n",
            "Requirement already satisfied: tenacity!=8.4.0,<10.0.0,>=8.1.0 in /usr/local/lib/python3.11/dist-packages (from langchain-core<1.0.0,>=0.3.51->langchain) (9.1.2)\n",
            "Requirement already satisfied: jsonpatch<2.0,>=1.33 in /usr/local/lib/python3.11/dist-packages (from langchain-core<1.0.0,>=0.3.51->langchain) (1.33)\n",
            "Requirement already satisfied: packaging<25,>=23.2 in /usr/local/lib/python3.11/dist-packages (from langchain-core<1.0.0,>=0.3.51->langchain) (24.2)\n",
            "Requirement already satisfied: orjson<4.0.0,>=3.9.14 in /usr/local/lib/python3.11/dist-packages (from langsmith<0.4,>=0.1.17->langchain) (3.10.16)\n",
            "Requirement already satisfied: requests-toolbelt<2.0.0,>=1.0.0 in /usr/local/lib/python3.11/dist-packages (from langsmith<0.4,>=0.1.17->langchain) (1.0.0)\n",
            "Requirement already satisfied: zstandard<0.24.0,>=0.23.0 in /usr/local/lib/python3.11/dist-packages (from langsmith<0.4,>=0.1.17->langchain) (0.23.0)\n",
            "Requirement already satisfied: annotated-types>=0.6.0 in /usr/local/lib/python3.11/dist-packages (from pydantic<3.0.0,>=2.7.4->langchain) (0.7.0)\n",
            "Requirement already satisfied: pydantic-core==2.33.1 in /usr/local/lib/python3.11/dist-packages (from pydantic<3.0.0,>=2.7.4->langchain) (2.33.1)\n",
            "Requirement already satisfied: typing-inspection>=0.4.0 in /usr/local/lib/python3.11/dist-packages (from pydantic<3.0.0,>=2.7.4->langchain) (0.4.0)\n",
            "Requirement already satisfied: six>=1.5 in /usr/local/lib/python3.11/dist-packages (from python-dateutil>=2.8.2->pandas) (1.17.0)\n",
            "Requirement already satisfied: charset-normalizer<4,>=2 in /usr/local/lib/python3.11/dist-packages (from requests<3,>=2->langchain) (3.4.1)\n",
            "Requirement already satisfied: urllib3<3,>=1.21.1 in /usr/local/lib/python3.11/dist-packages (from requests<3,>=2->langchain) (2.3.0)\n",
            "Requirement already satisfied: greenlet>=1 in /usr/local/lib/python3.11/dist-packages (from SQLAlchemy<3,>=1.4->langchain) (3.1.1)\n",
            "Requirement already satisfied: jsonpointer>=1.9 in /usr/local/lib/python3.11/dist-packages (from jsonpatch<2.0,>=1.33->langchain-core<1.0.0,>=0.3.51->langchain) (3.0.0)\n"
          ]
        },
        {
          "output_type": "stream",
          "name": "stderr",
          "text": [
            "[nltk_data] Downloading package vader_lexicon to /root/nltk_data...\n",
            "[nltk_data] Downloading package punkt to /root/nltk_data...\n",
            "[nltk_data]   Unzipping tokenizers/punkt.zip.\n"
          ]
        },
        {
          "output_type": "execute_result",
          "data": {
            "text/plain": [
              "True"
            ]
          },
          "metadata": {},
          "execution_count": 1
        }
      ]
    },
    {
      "cell_type": "code",
      "source": [
        "# Mock GPT-3.5 API (for demo purposes, replace with actual OpenAI API in production)\n",
        "class MockOpenAI:\n",
        "    def __init__(self):\n",
        "        self.responses = {\n",
        "            \"Tell me about your experience with Python.\": [\n",
        "                \"I've worked with Python for 3 years, building web apps with Flask and data pipelines with Pandas.\",\n",
        "                \"I have 5 years of Python experience, focusing on machine learning with scikit-learn and TensorFlow.\"\n",
        "            ],\n",
        "            \"What is your greatest strength?\": [\n",
        "                \"My greatest strength is problem-solving; I enjoy tackling complex challenges with creative solutions.\",\n",
        "                \"I'm highly adaptable, quickly learning new tools and technologies to deliver results.\"\n",
        "            ]\n",
        "        }\n",
        "\n",
        "    def generate_response(self, prompt):\n",
        "        return random.choice(self.responses.get(prompt, [\"I'm sorry, I don't have a response for that.\"]))"
      ],
      "metadata": {
        "id": "nnImVrffo2TK"
      },
      "execution_count": 2,
      "outputs": []
    },
    {
      "cell_type": "code",
      "source": [
        "# Initialize mock GPT API\n",
        "llm = MockOpenAI()\n",
        "\n",
        "# Simulated resume data (replace with actual resume parsing logic)\n",
        "resume_data = {\n",
        "    \"candidate_1\": {\n",
        "        \"name\": \"John Doe\",\n",
        "        \"skills\": [\"Python\", \"Flask\", \"SQL\", \"Pandas\"],\n",
        "        \"experience\": \"3 years as a Data Engineer at TechCorp, building ETL pipelines.\",\n",
        "        \"education\": \"BS Computer Science, XYZ University\"\n",
        "    },\n",
        "    \"candidate_2\": {\n",
        "        \"name\": \"Jane Smith\",\n",
        "        \"skills\": [\"Python\", \"Django\", \"Machine Learning\", \"TensorFlow\"],\n",
        "        \"experience\": \"5 years as a Machine Learning Engineer at AI Innovations.\",\n",
        "        \"education\": \"MS Data Science, ABC University\"\n",
        "    }\n",
        "}"
      ],
      "metadata": {
        "id": "C60TM4UGqV9B"
      },
      "execution_count": 3,
      "outputs": []
    },
    {
      "cell_type": "code",
      "source": [
        "# Predefined job requirements\n",
        "job_requirements = {\n",
        "    \"role\": \"Data Engineer\",\n",
        "    \"required_skills\": [\"Python\", \"SQL\", \"Pandas\", \"Flask\"],\n",
        "    \"optional_skills\": [\"Machine Learning\", \"AWS\"],\n",
        "    \"experience\": \"3+ years\"\n",
        "}"
      ],
      "metadata": {
        "id": "bOXP7YAOqb87"
      },
      "execution_count": 4,
      "outputs": []
    },
    {
      "cell_type": "code",
      "source": [
        "# Initialize sentiment analyzer\n",
        "sid = SentimentIntensityAnalyzer()"
      ],
      "metadata": {
        "id": "TDi-2xwKqfrq"
      },
      "execution_count": 5,
      "outputs": []
    },
    {
      "cell_type": "code",
      "source": [
        "# Resume parsing and skill-matching\n",
        "def parse_resume(resume):\n",
        "    skills = resume.get(\"skills\", [])\n",
        "    experience = resume.get(\"experience\", \"\")\n",
        "    return skills, experience"
      ],
      "metadata": {
        "id": "3z87vFaAqi5c"
      },
      "execution_count": 6,
      "outputs": []
    },
    {
      "cell_type": "code",
      "source": [
        "def calculate_resume_score(skills, required_skills, optional_skills):\n",
        "    vectorizer = TfidfVectorizer()\n",
        "    all_skills = [\", \".join(skills), \", \".join(required_skills + optional_skills)]\n",
        "    tfidf_matrix = vectorizer.fit_transform(all_skills)\n",
        "    score = cosine_similarity(tfidf_matrix[0:1], tfidf_matrix[1:2])[0][0]\n",
        "    return round(score * 100, 2)"
      ],
      "metadata": {
        "id": "9vGOtXkFqmUo"
      },
      "execution_count": 7,
      "outputs": []
    },
    {
      "cell_type": "code",
      "source": [
        "# Candidate interview simulation\n",
        "def conduct_interview(candidate_id, questions):\n",
        "    responses = {}\n",
        "    sentiments = {}\n",
        "    for question in questions:\n",
        "        response = llm.generate_response(question)\n",
        "        responses[question] = response\n",
        "        sentiment = sid.polarity_scores(response)\n",
        "        sentiments[question] = sentiment['compound']\n",
        "    return responses, sentiments"
      ],
      "metadata": {
        "id": "SA45rpj9qp5e"
      },
      "execution_count": 8,
      "outputs": []
    },
    {
      "cell_type": "code",
      "source": [
        "# Generate candidate summary\n",
        "def generate_candidate_summary(candidate_id, resume, responses, sentiments, resume_score):\n",
        "    summary = f\"\"\"\n",
        "    <h2>Candidate Summary: {resume['name']}</h2>\n",
        "    <p><b>Resume Score:</b> {resume_score}%</p>\n",
        "    <p><b>Education:</b> {resume['education']}</p>\n",
        "    <p><b>Experience:</b> {resume['experience']}</p>\n",
        "    <p><b>Skills:</b> {', '.join(resume['skills'])}</p>\n",
        "    <h3>Interview Responses:</h3>\n",
        "    \"\"\"\n",
        "    for question, response in responses.items():\n",
        "        sentiment = \"Positive\" if sentiments[question] > 0 else \"Neutral\" if sentiments[question] == 0 else \"Negative\"\n",
        "        summary += f\"<p><b>{question}</b><br>{response}<br><i>Sentiment: {sentiment}</i></p>\"\n",
        "\n",
        "    # Auto-generated feedback\n",
        "    feedback = \"The candidate shows strong alignment with the role.\" if resume_score > 80 else \"The candidate has relevant skills but may need further evaluation.\"\n",
        "    summary += f\"<h3>Feedback:</h3><p>{feedback}</p>\"\n",
        "    return summary"
      ],
      "metadata": {
        "id": "F6w1gKPNqueO"
      },
      "execution_count": 13,
      "outputs": []
    },
    {
      "cell_type": "code",
      "source": [
        "# Main execution\n",
        "def main():\n",
        "    questions = [\n",
        "        \"Tell me about your experience with Python.\",\n",
        "        \"What is your greatest strength?\"\n",
        "    ]\n",
        "\n",
        "    for candidate_id, resume in resume_data.items():\n",
        "        # Parse resume\n",
        "        skills, experience = parse_resume(resume)\n",
        "\n",
        "        # Calculate resume score\n",
        "        resume_score = calculate_resume_score(skills, job_requirements[\"required_skills\"], job_requirements[\"optional_skills\"])\n",
        "\n",
        "        # Conduct interview\n",
        "        responses, sentiments = conduct_interview(candidate_id, questions)\n",
        "\n",
        "        # Generate summary\n",
        "        summary = generate_candidate_summary(candidate_id, resume, responses, sentiments, resume_score)\n",
        "\n",
        "        # Display results\n",
        "        display(HTML(summary))\n",
        "\n",
        "# Run the assistant\n",
        "main()"
      ],
      "metadata": {
        "colab": {
          "base_uri": "https://localhost:8080/",
          "height": 735
        },
        "id": "qHLHqnuuq1mz",
        "outputId": "770c17d0-1c5c-4953-a872-acd9f006f2df"
      },
      "execution_count": 14,
      "outputs": [
        {
          "output_type": "display_data",
          "data": {
            "text/plain": [
              "<IPython.core.display.HTML object>"
            ],
            "text/html": [
              "\n",
              "    <h2>Candidate Summary: John Doe</h2>\n",
              "    <p><b>Resume Score:</b> 63.48%</p>\n",
              "    <p><b>Education:</b> BS Computer Science, XYZ University</p>\n",
              "    <p><b>Experience:</b> 3 years as a Data Engineer at TechCorp, building ETL pipelines.</p>\n",
              "    <p><b>Skills:</b> Python, Flask, SQL, Pandas</p>\n",
              "    <h3>Interview Responses:</h3>\n",
              "    <p><b>Tell me about your experience with Python.</b><br>I've worked with Python for 3 years, building web apps with Flask and data pipelines with Pandas.<br><i>Sentiment: Neutral</i></p><p><b>What is your greatest strength?</b><br>My greatest strength is problem-solving; I enjoy tackling complex challenges with creative solutions.<br><i>Sentiment: Positive</i></p><h3>Feedback:</h3><p>The candidate has relevant skills but may need further evaluation.</p>"
            ]
          },
          "metadata": {}
        },
        {
          "output_type": "display_data",
          "data": {
            "text/plain": [
              "<IPython.core.display.HTML object>"
            ],
            "text/html": [
              "\n",
              "    <h2>Candidate Summary: Jane Smith</h2>\n",
              "    <p><b>Resume Score:</b> 34.46%</p>\n",
              "    <p><b>Education:</b> MS Data Science, ABC University</p>\n",
              "    <p><b>Experience:</b> 5 years as a Machine Learning Engineer at AI Innovations.</p>\n",
              "    <p><b>Skills:</b> Python, Django, Machine Learning, TensorFlow</p>\n",
              "    <h3>Interview Responses:</h3>\n",
              "    <p><b>Tell me about your experience with Python.</b><br>I've worked with Python for 3 years, building web apps with Flask and data pipelines with Pandas.<br><i>Sentiment: Neutral</i></p><p><b>What is your greatest strength?</b><br>My greatest strength is problem-solving; I enjoy tackling complex challenges with creative solutions.<br><i>Sentiment: Positive</i></p><h3>Feedback:</h3><p>The candidate has relevant skills but may need further evaluation.</p>"
            ]
          },
          "metadata": {}
        }
      ]
    },
    {
      "cell_type": "code",
      "source": [
        "# Adjustable tone simulation (for demo purposes)\n",
        "def adjust_tone(text, tone=\"professional\"):\n",
        "    if tone == \"friendly\":\n",
        "        return text.replace(\"shows strong alignment\", \"is a great fit\").replace(\"may need further evaluation\", \"could shine with a bit more review\")\n",
        "    return text"
      ],
      "metadata": {
        "id": "FU0HZL5mq4_a"
      },
      "execution_count": 15,
      "outputs": []
    },
    {
      "cell_type": "code",
      "source": [
        "# Example of adjusting tone\n",
        "sample_feedback = \"The candidate shows strong alignment with the role.\"\n",
        "print(\"Professional Tone:\", sample_feedback)\n",
        "print(\"Friendly Tone:\", adjust_tone(sample_feedback, tone=\"friendly\"))"
      ],
      "metadata": {
        "colab": {
          "base_uri": "https://localhost:8080/",
          "height": 0
        },
        "id": "z4KM9KS9r-Lg",
        "outputId": "8669884b-5ad1-4ee7-a3af-eaf7ef8cdfa6"
      },
      "execution_count": 16,
      "outputs": [
        {
          "output_type": "stream",
          "name": "stdout",
          "text": [
            "Professional Tone: The candidate shows strong alignment with the role.\n",
            "Friendly Tone: The candidate is a great fit with the role.\n"
          ]
        }
      ]
    },
    {
      "cell_type": "code",
      "source": [],
      "metadata": {
        "id": "2S7n901fsB4t"
      },
      "execution_count": null,
      "outputs": []
    }
  ]
}