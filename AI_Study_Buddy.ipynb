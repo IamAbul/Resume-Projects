{
  "nbformat": 4,
  "nbformat_minor": 0,
  "metadata": {
    "colab": {
      "provenance": []
    },
    "kernelspec": {
      "name": "python3",
      "display_name": "Python 3"
    },
    "language_info": {
      "name": "python"
    }
  },
  "cells": [
    {
      "cell_type": "markdown",
      "source": [
        "# AI Study Buddy\n",
        "# This code implements a prompt-based assistant for summarizing topics, explaining concepts, and generating quizzes\n",
        "# Features: Language support for Tamil/English, multiple modes (conversational/technical), prompt templates\n",
        "# Tech: Mock GPT-4 API (replace with actual GPT-4 API), LangChain-like prompt engineering, Python\n",
        "# Designed to run in Google Colab"
      ],
      "metadata": {
        "id": "bJMwCXFWAqZB"
      }
    },
    {
      "cell_type": "code",
      "source": [
        "# Install required packages\n",
        "!pip install langchain\n",
        "\n",
        "import random\n",
        "from IPython.display import display, HTML"
      ],
      "metadata": {
        "colab": {
          "base_uri": "https://localhost:8080/"
        },
        "id": "mWruNRUmAsSn",
        "outputId": "bddbcc1c-d645-48b4-be79-1f2edd9cdc2d"
      },
      "execution_count": 1,
      "outputs": [
        {
          "output_type": "stream",
          "name": "stdout",
          "text": [
            "Requirement already satisfied: langchain in /usr/local/lib/python3.11/dist-packages (0.3.23)\n",
            "Requirement already satisfied: langchain-core<1.0.0,>=0.3.51 in /usr/local/lib/python3.11/dist-packages (from langchain) (0.3.51)\n",
            "Requirement already satisfied: langchain-text-splitters<1.0.0,>=0.3.8 in /usr/local/lib/python3.11/dist-packages (from langchain) (0.3.8)\n",
            "Requirement already satisfied: langsmith<0.4,>=0.1.17 in /usr/local/lib/python3.11/dist-packages (from langchain) (0.3.24)\n",
            "Requirement already satisfied: pydantic<3.0.0,>=2.7.4 in /usr/local/lib/python3.11/dist-packages (from langchain) (2.11.2)\n",
            "Requirement already satisfied: SQLAlchemy<3,>=1.4 in /usr/local/lib/python3.11/dist-packages (from langchain) (2.0.40)\n",
            "Requirement already satisfied: requests<3,>=2 in /usr/local/lib/python3.11/dist-packages (from langchain) (2.32.3)\n",
            "Requirement already satisfied: PyYAML>=5.3 in /usr/local/lib/python3.11/dist-packages (from langchain) (6.0.2)\n",
            "Requirement already satisfied: tenacity!=8.4.0,<10.0.0,>=8.1.0 in /usr/local/lib/python3.11/dist-packages (from langchain-core<1.0.0,>=0.3.51->langchain) (9.1.2)\n",
            "Requirement already satisfied: jsonpatch<2.0,>=1.33 in /usr/local/lib/python3.11/dist-packages (from langchain-core<1.0.0,>=0.3.51->langchain) (1.33)\n",
            "Requirement already satisfied: packaging<25,>=23.2 in /usr/local/lib/python3.11/dist-packages (from langchain-core<1.0.0,>=0.3.51->langchain) (24.2)\n",
            "Requirement already satisfied: typing-extensions>=4.7 in /usr/local/lib/python3.11/dist-packages (from langchain-core<1.0.0,>=0.3.51->langchain) (4.13.1)\n",
            "Requirement already satisfied: httpx<1,>=0.23.0 in /usr/local/lib/python3.11/dist-packages (from langsmith<0.4,>=0.1.17->langchain) (0.28.1)\n",
            "Requirement already satisfied: orjson<4.0.0,>=3.9.14 in /usr/local/lib/python3.11/dist-packages (from langsmith<0.4,>=0.1.17->langchain) (3.10.16)\n",
            "Requirement already satisfied: requests-toolbelt<2.0.0,>=1.0.0 in /usr/local/lib/python3.11/dist-packages (from langsmith<0.4,>=0.1.17->langchain) (1.0.0)\n",
            "Requirement already satisfied: zstandard<0.24.0,>=0.23.0 in /usr/local/lib/python3.11/dist-packages (from langsmith<0.4,>=0.1.17->langchain) (0.23.0)\n",
            "Requirement already satisfied: annotated-types>=0.6.0 in /usr/local/lib/python3.11/dist-packages (from pydantic<3.0.0,>=2.7.4->langchain) (0.7.0)\n",
            "Requirement already satisfied: pydantic-core==2.33.1 in /usr/local/lib/python3.11/dist-packages (from pydantic<3.0.0,>=2.7.4->langchain) (2.33.1)\n",
            "Requirement already satisfied: typing-inspection>=0.4.0 in /usr/local/lib/python3.11/dist-packages (from pydantic<3.0.0,>=2.7.4->langchain) (0.4.0)\n",
            "Requirement already satisfied: charset-normalizer<4,>=2 in /usr/local/lib/python3.11/dist-packages (from requests<3,>=2->langchain) (3.4.1)\n",
            "Requirement already satisfied: idna<4,>=2.5 in /usr/local/lib/python3.11/dist-packages (from requests<3,>=2->langchain) (3.10)\n",
            "Requirement already satisfied: urllib3<3,>=1.21.1 in /usr/local/lib/python3.11/dist-packages (from requests<3,>=2->langchain) (2.3.0)\n",
            "Requirement already satisfied: certifi>=2017.4.17 in /usr/local/lib/python3.11/dist-packages (from requests<3,>=2->langchain) (2025.1.31)\n",
            "Requirement already satisfied: greenlet>=1 in /usr/local/lib/python3.11/dist-packages (from SQLAlchemy<3,>=1.4->langchain) (3.1.1)\n",
            "Requirement already satisfied: anyio in /usr/local/lib/python3.11/dist-packages (from httpx<1,>=0.23.0->langsmith<0.4,>=0.1.17->langchain) (4.9.0)\n",
            "Requirement already satisfied: httpcore==1.* in /usr/local/lib/python3.11/dist-packages (from httpx<1,>=0.23.0->langsmith<0.4,>=0.1.17->langchain) (1.0.7)\n",
            "Requirement already satisfied: h11<0.15,>=0.13 in /usr/local/lib/python3.11/dist-packages (from httpcore==1.*->httpx<1,>=0.23.0->langsmith<0.4,>=0.1.17->langchain) (0.14.0)\n",
            "Requirement already satisfied: jsonpointer>=1.9 in /usr/local/lib/python3.11/dist-packages (from jsonpatch<2.0,>=1.33->langchain-core<1.0.0,>=0.3.51->langchain) (3.0.0)\n",
            "Requirement already satisfied: sniffio>=1.1 in /usr/local/lib/python3.11/dist-packages (from anyio->httpx<1,>=0.23.0->langsmith<0.4,>=0.1.17->langchain) (1.3.1)\n"
          ]
        }
      ]
    },
    {
      "cell_type": "code",
      "source": [
        "# Mock GPT-4 API (for demo purposes, replace with actual OpenAI GPT-4 API in production)\n",
        "class MockGPT4:\n",
        "    def __init__(self):\n",
        "        self.responses = {\n",
        "            \"summarize\": {\n",
        "                \"English\": {\n",
        "                    \"Machine Learning\": \"Machine Learning is a field of AI where computers learn from data to make predictions or decisions without being explicitly programmed.\",\n",
        "                    \"Photosynthesis\": \"Photosynthesis is the process by which plants use sunlight, water, and carbon dioxide to produce glucose and oxygen.\"\n",
        "                },\n",
        "                \"Tamil\": {\n",
        "                    \"Machine Learning\": \"இயந்திர கற்றல் என்பது ஒரு வகை செயற்கை நுண்ணறிவு ஆகும், இதில் கணினிகள் வெளிப்படையாக நிரலாக்கப்படாமல் தரவுகளிலிருந்து கற்று முன்கணிப்புகள் அல்லது முடிவுகளை எடுக்கின்றன.\",\n",
        "                    \"Photosynthesis\": \"ஒளிச்சேர்க்கை என்பது தாவரங்கள் சூரிய ஒளி, நீர் மற்றும் கார்பன் டை ஆக்சைடைப் பயன்படுத்தி குளுக்கோஸ் மற்றும் ஆக்ஸிஜனை உற்பத்தி செய்யும் செயல்முறையாகும்.\"\n",
        "                }\n",
        "            },\n",
        "            \"explain\": {\n",
        "                \"English\": {\n",
        "                    \"Machine Learning\": \"Machine Learning involves algorithms that improve through experience. For example, a spam filter learns to identify junk emails by analyzing patterns in data.\",\n",
        "                    \"Photosynthesis\": \"Photosynthesis occurs in chloroplasts, where chlorophyll absorbs sunlight to combine CO2 with water, forming glucose as energy and releasing oxygen.\"\n",
        "                },\n",
        "                \"Tamil\": {\n",
        "                    \"Machine Learning\": \"இயந்திர கற்றல் என்பது அனுபவத்தின் மூலம் மேம்படும் வழிமுறைகளை உள்ளடக்கியது. உதாரணமாக, ஒரு ஸ்பேம் வடிகட்டி தரவுகளில் உள்ள வடிவங்களை பகுப்பாய்வு செய்து குப்பை மின்னஞ்சல்களை அடையாளம் காண கற்றுக்கொள்கிறது.\",\n",
        "                    \"Photosynthesis\": \"ஒளிச்சேர்க்கை குளோரோபிளாஸ்ட்களில் நிகழ்கிறது, அங்கு குளோரோஃபில் சூரிய ஒளியை உறிஞ்சி CO2 ஐ நீருடன் இணைத்து, ஆற்றலாக குளுக்கோஸை உருவாக்கி ஆக்ஸிஜனை வெளியிடுகிறது.\"\n",
        "                }\n",
        "            },\n",
        "            \"quiz\": {\n",
        "                \"English\": {\n",
        "                    \"Machine Learning\": \"Question: What is Machine Learning?\\nA) Programming computers explicitly\\nB) Learning from data\\nC) Hardware design\\nAnswer: B\",\n",
        "                    \"Photosynthesis\": \"Question: What gas is released during photosynthesis?\\nA) Nitrogen\\nB) Oxygen\\nC) Carbon Dioxide\\nAnswer: B\"\n",
        "                },\n",
        "                \"Tamil\": {\n",
        "                    \"Machine Learning\": \"கேள்வி: இயந்திர கற்றல் என்றால் என்ன?\\nஅ) கணினிகளை வெளிப்படையாக நிரலாக்குதல்\\nஆ) தரவுகளிலிருந்து கற்றல்\\nஇ) வன்பொருள் வடிவமைப்பு\\nபதில்: ஆ\",\n",
        "                    \"Photosynthesis\": \"கேள்வி: ஒளிச்சேர்க்கையின் போது எந்த வாயு வெளியிடப்படுகிறது?\\nஅ) நைட்ரஜன்\\nஆ) ஆக்ஸிஜன்\\nஇ) கார்பன் டை ஆக்சைடு\\nபதில்: ஆ\"\n",
        "                }\n",
        "            }\n",
        "        }"
      ],
      "metadata": {
        "id": "S2bC_6q4BGA8"
      },
      "execution_count": 2,
      "outputs": []
    },
    {
      "cell_type": "code",
      "source": [
        "def generate(self, prompt_type, topic, language, mode=\"conversational\"):\n",
        "        response = self.responses.get(prompt_type, {}).get(language, {}).get(topic, \"Sorry, I don't have information on that.\")\n",
        "        if mode == \"technical\" and prompt_type == \"explain\":\n",
        "            response += \" (Technical details: Based on advanced algorithms and data patterns).\"\n",
        "        return response"
      ],
      "metadata": {
        "id": "s4H3qeqTBaW6"
      },
      "execution_count": 3,
      "outputs": []
    },
    {
      "cell_type": "code",
      "source": [
        "# Initialize mock GPT-4 API\n",
        "llm = MockGPT4()"
      ],
      "metadata": {
        "id": "9yltIz7mBnzX"
      },
      "execution_count": 4,
      "outputs": []
    },
    {
      "cell_type": "code",
      "source": [
        "# Prompt templates (LangChain-like)\n",
        "class PromptTemplate:\n",
        "    def __init__(self, template):\n",
        "        self.template = template\n",
        "\n",
        "    def format(self, **kwargs):\n",
        "        return self.template.format(**kwargs)"
      ],
      "metadata": {
        "id": "48-Tgh9PBop-"
      },
      "execution_count": 5,
      "outputs": []
    },
    {
      "cell_type": "code",
      "source": [
        "# Define templates dynamically based on language during task execution\n",
        "def get_summarizer_template(language):\n",
        "    template = \"{topic} என்றால் என்ன? {language} இல் சுருக்கமாக விளக்கவும்.\" if language == \"Tamil\" else \"What is {topic}? Summarize it briefly in {language}.\"\n",
        "    return PromptTemplate(template)\n",
        "\n",
        "def get_explainer_template(language):\n",
        "    template = \"{topic} பற்றி விரிவாக {language} இல் விளக்கவும்.\" if language == \"Tamil\" else \"Explain {topic} in detail in {language}.\"\n",
        "    return PromptTemplate(template)\n",
        "\n",
        "def get_quiz_template(language):\n",
        "    template = \"{topic} பற்றி ஒரு கேள்வி உருவாக்கவும் {language} இல்.\" if language == \"Tamil\" else \"Create a quiz question about {topic} in {language}.\"\n",
        "    return PromptTemplate(template)"
      ],
      "metadata": {
        "id": "I5ZSP9qyBvOG"
      },
      "execution_count": 7,
      "outputs": []
    },
    {
      "cell_type": "code",
      "source": [
        "# Study Buddy Assistant\n",
        "class StudyBuddy:\n",
        "    def __init__(self, llm):\n",
        "        self.llm = llm\n",
        "\n",
        "    def process_request(self, topic, language, mode, task):\n",
        "        if task == \"summarize\":\n",
        "            prompt_template = get_summarizer_template(language)\n",
        "            prompt = prompt_template.format(topic=topic, language=language)\n",
        "            return self.llm.generate(\"summarize\", topic, language, mode)\n",
        "        elif task == \"explain\":\n",
        "            prompt_template = get_explainer_template(language)\n",
        "            prompt = prompt_template.format(topic=topic, language=language)\n",
        "            return self.llm.generate(\"explain\", topic, language, mode)\n",
        "        elif task == \"quiz\":\n",
        "            prompt_template = get_quiz_template(language)\n",
        "            prompt = prompt_template.format(topic=topic, language=language)\n",
        "            return self.llm.generate(\"quiz\", topic, language, mode)\n",
        "        return \"Invalid task.\""
      ],
      "metadata": {
        "id": "bSywunFWB1o2"
      },
      "execution_count": 11,
      "outputs": []
    },
    {
      "cell_type": "code",
      "source": [
        "# Mock GPT-4 API (for demo purposes, replace with actual OpenAI GPT-4 API in production)\n",
        "class MockGPT4:\n",
        "    def __init__(self):\n",
        "        self.responses = {\n",
        "            \"summarize\": {\n",
        "                \"English\": {\n",
        "                    \"Machine Learning\": \"Machine Learning is a field of AI where computers learn from data to make predictions or decisions without being explicitly programmed.\",\n",
        "                    \"Photosynthesis\": \"Photosynthesis is the process by which plants use sunlight, water, and carbon dioxide to produce glucose and oxygen.\"\n",
        "                },\n",
        "                \"Tamil\": {\n",
        "                    \"Machine Learning\": \"இயந்திர கற்றல் என்பது ஒரு வகை செயற்கை நுண்ணறிவு ஆகும், இதில் கணினிகள் வெளிப்படையாக நிரலாக்கப்படாமல் தரவுகளிலிருந்து கற்று முன்கணிப்புகள் அல்லது முடிவுகளை எடுக்கின்றன.\",\n",
        "                    \"Photosynthesis\": \"ஒளிச்சேர்க்கை என்பது தாவரங்கள் சூரிய ஒளி, நீர் மற்றும் கார்பன் டை ஆக்சைடைப் பயன்படுத்தி குளுக்கோஸ் மற்றும் ஆக்ஸிஜனை உற்பத்தி செய்யும் செயல்முறையாகும்.\"\n",
        "                }\n",
        "            },\n",
        "            \"explain\": {\n",
        "                \"English\": {\n",
        "                    \"Machine Learning\": \"Machine Learning involves algorithms that improve through experience. For example, a spam filter learns to identify junk emails by analyzing patterns in data.\",\n",
        "                    \"Photosynthesis\": \"Photosynthesis occurs in chloroplasts, where chlorophyll absorbs sunlight to combine CO2 with water, forming glucose as energy and releasing oxygen.\"\n",
        "                },\n",
        "                \"Tamil\": {\n",
        "                    \"Machine Learning\": \"இயந்திர கற்றல் என்பது அனுபவத்தின் மூலம் மேம்படும் வழிமுறைகளை உள்ளடக்கியது. உதாரணமாக, ஒரு ஸ்பேம் வடிகட்டி தரவுகளில் உள்ள வடிவங்களை பகுப்பாய்வு செய்து குப்பை மின்னஞ்சல்களை அடையாளம் காண கற்றுக்கொள்கிறது.\",\n",
        "                    \"Photosynthesis\": \"ஒளிச்சேர்க்கை குளோரோபிளாஸ்ட்களில் நிகழ்கிறது, அங்கு குளோரோஃபில் சூரிய ஒளியை உறிஞ்சி CO2 ஐ நீருடன் இணைத்து, ஆற்றலாக குளுக்கோஸை உருவாக்கி ஆக்ஸிஜனை வெளியிடுகிறது.\"\n",
        "                }\n",
        "            },\n",
        "            \"quiz\": {\n",
        "                \"English\": {\n",
        "                    \"Machine Learning\": \"Question: What is Machine Learning?\\nA) Programming computers explicitly\\nB) Learning from data\\nC) Hardware design\\nAnswer: B\",\n",
        "                    \"Photosynthesis\": \"Question: What gas is released during photosynthesis?\\nA) Nitrogen\\nB) Oxygen\\nC) Carbon Dioxide\\nAnswer: B\"\n",
        "                },\n",
        "                \"Tamil\": {\n",
        "                    \"Machine Learning\": \"கேள்வி: இயந்திர கற்றல் என்றால் என்ன?\\nஅ) கணினிகளை வெளிப்படையாக நிரலாக்குதல்\\nஆ) தரவுகளிலிருந்து கற்றல்\\nஇ) வன்பொருள் வடிவமைப்பு\\nபதில்: ஆ\",\n",
        "                    \"Photosynthesis\": \"கேள்வி: ஒளிச்சேர்க்கையின் போது எந்த வாயு வெளியிடப்படுகிறது?\\nஅ) நைட்ரஜன்\\nஆ) ஆக்ஸிஜன்\\nஇ) கார்பன் டை ஆக்சைடு\\nபதில்: ஆ\"\n",
        "                }\n",
        "            }\n",
        "        }\n",
        "\n",
        "    # Define the generate method within the MockGPT4 class\n",
        "    def generate(self, prompt_type, topic, language, mode=\"conversational\"):\n",
        "        response = self.responses.get(prompt_type, {}).get(language, {}).get(topic, \"Sorry, I don't have information on that.\")\n",
        "        if mode == \"technical\" and prompt_type == \"explain\":\n",
        "            response += \" (Technical details: Based on advanced algorithms and data patterns).\"\n",
        "        return response"
      ],
      "metadata": {
        "id": "UPV-wu-ldvcP"
      },
      "execution_count": 14,
      "outputs": []
    }
  ]
}